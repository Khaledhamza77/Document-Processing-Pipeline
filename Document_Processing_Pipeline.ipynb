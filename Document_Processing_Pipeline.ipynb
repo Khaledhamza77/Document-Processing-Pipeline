{
  "nbformat": 4,
  "nbformat_minor": 0,
  "metadata": {
    "colab": {
      "provenance": [],
      "gpuType": "T4",
      "mount_file_id": "1HynAGxZCp5HwbCjwRsrN5wCoX3CGHlVt",
      "authorship_tag": "ABX9TyPTNZheIDI5tmi8/cPElfCo",
      "include_colab_link": true
    },
    "kernelspec": {
      "name": "python3",
      "display_name": "Python 3"
    },
    "language_info": {
      "name": "python"
    },
    "accelerator": "GPU"
  },
  "cells": [
    {
      "cell_type": "markdown",
      "metadata": {
        "id": "view-in-github",
        "colab_type": "text"
      },
      "source": [
        "<a href=\"https://colab.research.google.com/github/Khaledhamza77/Document-Processing-Pipeline/blob/main/Document_Processing_Pipeline.ipynb\" target=\"_parent\"><img src=\"https://colab.research.google.com/assets/colab-badge.svg\" alt=\"Open In Colab\"/></a>"
      ]
    },
    {
      "cell_type": "markdown",
      "metadata": {
        "id": "cHqeBG5x7LJb"
      },
      "source": [
        "# Libraries"
      ]
    },
    {
      "cell_type": "code",
      "execution_count": 10,
      "metadata": {
        "id": "PVOgXZB97OT1"
      },
      "outputs": [],
      "source": [
        "import requests\n",
        "import os\n",
        "from ultralytics import YOLO\n",
        "from PIL import Image\n",
        "import easyocr\n",
        "from PyPDF2 import PdfReader\n",
        "from pdf2image import convert_from_path\n",
        "from pdf2image import convert_from_bytes\n",
        "from langchain.text_splitter import RecursiveCharacterTextSplitter\n",
        "import re\n",
        "import pandas as pd\n",
        "from langchain.text_splitter import SpacyTextSplitter"
      ]
    },
    {
      "cell_type": "markdown",
      "metadata": {
        "id": "TBNqFsZJBGyP"
      },
      "source": [
        "#Models"
      ]
    },
    {
      "cell_type": "markdown",
      "source": [
        "Model form: https://huggingface.co/neuralshift/doc-layout-yolov8n/tree/main/weights\n",
        "\n",
        "or from: https://huggingface.co/neuralshift/doc-layout-yolov8s/tree/main/weights\n",
        "\n",
        "or from: https://huggingface.co/DILHTWD/documentlayoutsegmentation_YOLOv8_ondoclaynet/tree/main (best!)"
      ],
      "metadata": {
        "id": "juDnC4MoTjLW"
      }
    },
    {
      "cell_type": "code",
      "execution_count": 17,
      "metadata": {
        "id": "zo4d0eW2BIIF"
      },
      "outputs": [],
      "source": [
        "model = YOLO('/content/drive/MyDrive/Yolov8 finetuned on DocLayNet/yolov8x-doclaynet-epoch64-imgsz640-initiallr1e-4-finallr1e-5.pt')\n",
        "reader = easyocr.Reader(['en'])"
      ]
    },
    {
      "cell_type": "markdown",
      "metadata": {
        "id": "Bzl5JXxNY5Ok"
      },
      "source": [
        "#Custom Yolov8 Object Dectection and OCR"
      ]
    },
    {
      "cell_type": "code",
      "execution_count": 18,
      "metadata": {
        "id": "2IU6wlHOBOEU"
      },
      "outputs": [],
      "source": [
        "def remove_extra_spaces(text):\n",
        "    # Remove extra spaces at the beginning and end of the string\n",
        "    text = text.strip()\n",
        "    # Remove double spaces between words\n",
        "    text = re.sub(r'\\s+', ' ', text)\n",
        "    return text\n",
        "\n",
        "def get_top_y(box):\n",
        "    return box[1]\n",
        "\n",
        "def crop_image(image, bounding_box):\n",
        "    x_min, y_min, x_max, y_max = bounding_box\n",
        "\n",
        "    cropped_image = image.crop((x_min, y_min, x_max, y_max))\n",
        "\n",
        "    return cropped_image"
      ]
    },
    {
      "cell_type": "code",
      "execution_count": 19,
      "metadata": {
        "id": "EihvSUNBY4t2"
      },
      "outputs": [],
      "source": [
        "def Yolov8andOCR(image,con,filename):\n",
        "  df=pd.DataFrame([])\n",
        "  images=[]\n",
        "  results = model.predict(image,conf=con,verbose=False)\n",
        "  for i, r in enumerate(results):\n",
        "    im_bgr = r.plot()\n",
        "    im_rgb = Image.fromarray(im_bgr[..., ::-1])\n",
        "    images.append(im_rgb)\n",
        "\n",
        "  boxes = results[0].boxes.xyxy.tolist()\n",
        "  classes = results[0].boxes.cls.tolist()\n",
        "  # Sort the bounding boxes based on their top y-coordinate (top-to-bottom order)\n",
        "  combined_data = list(zip(boxes, classes))\n",
        "\n",
        "  # Sort the combined data based on the y-coordinate of the top edge of each bounding box\n",
        "  sorted_combined_data = sorted(combined_data, key=lambda x: get_top_y(x[0]))\n",
        "\n",
        "  # Separate the sorted data back into separate lists\n",
        "  if len(sorted_combined_data) != 0:\n",
        "    sorted_bounding_boxes, sorted_classes = zip(*sorted_combined_data)\n",
        "  else:\n",
        "    sorted_bounding_boxes=boxes\n",
        "    sorted_classes=classes\n",
        "\n",
        "  ocr_text=''\n",
        "  for box, cls in zip(sorted_bounding_boxes, sorted_classes):\n",
        "    if cls == 9.0:\n",
        "      img=crop_image(image,box)\n",
        "      imagePath='/content/temp_image.jpg'\n",
        "      img.save(imagePath)\n",
        "      result = reader.readtext(imagePath)\n",
        "      os.remove(imagePath)\n",
        "      extracted_text = ''\n",
        "      for detection in result:\n",
        "        text = detection[1]\n",
        "        extracted_text += text + ' '\n",
        "      j=df.shape[0]\n",
        "      df.at[j,'text']=extracted_text\n",
        "      df.at[j,'filename']=filename\n",
        "  return df, images"
      ]
    },
    {
      "cell_type": "code",
      "source": [
        "def main_function(filepath,conf,filename,firstpage,chunk):\n",
        "  df = pd.DataFrame([])\n",
        "  imgs = []\n",
        "  images = convert_from_path(filepath)\n",
        "  for i,image in enumerate(images):\n",
        "    if not (i==0 and firstpage=='n'):\n",
        "      df1, imgs1 = Yolov8andOCR(image,conf,filename)\n",
        "      df = pd.concat([df, df1], ignore_index=True)\n",
        "      imgs+=imgs1\n",
        "\n",
        "  text=\"\"\n",
        "  for txt in df['text']:\n",
        "    text+=txt\n",
        "\n",
        "  text_splitter = SpacyTextSplitter(chunk_size=chunk)\n",
        "\n",
        "  TrDf=pd.DataFrame([])\n",
        "  chunks=text_splitter.split_text(text)\n",
        "  for chunk in chunks:\n",
        "    j=TrDf.shape[0]\n",
        "    TrDf.at[j,'text']='In '+filename+' it says: '+chunk\n",
        "    TrDf.at[j,'filename']=filename\n",
        "\n",
        "  return TrDf, imgs"
      ],
      "metadata": {
        "id": "XPdUigxPWyVG"
      },
      "execution_count": 39,
      "outputs": []
    },
    {
      "cell_type": "markdown",
      "metadata": {
        "id": "go8TUWLGYHTD"
      },
      "source": [
        "#Interface"
      ]
    },
    {
      "cell_type": "code",
      "execution_count": 41,
      "metadata": {
        "id": "K7RimKE2K5_2",
        "colab": {
          "base_uri": "https://localhost:8080/",
          "height": 680
        },
        "outputId": "81c9fe0f-0f95-4e3d-f8fc-b9332663de20"
      },
      "outputs": [
        {
          "output_type": "stream",
          "name": "stdout",
          "text": [
            "Colab notebook detected. This cell will run indefinitely so that you can see errors and logs. To turn off, set debug=False in launch().\n",
            "Running on public URL: https://61f0814a82efcceb89.gradio.live\n",
            "\n",
            "This share link expires in 72 hours. For free permanent hosting and GPU upgrades, run `gradio deploy` from Terminal to deploy to Spaces (https://huggingface.co/spaces)\n"
          ]
        },
        {
          "output_type": "display_data",
          "data": {
            "text/plain": [
              "<IPython.core.display.HTML object>"
            ],
            "text/html": [
              "<div><iframe src=\"https://61f0814a82efcceb89.gradio.live\" width=\"100%\" height=\"500\" allow=\"autoplay; camera; microphone; clipboard-read; clipboard-write;\" frameborder=\"0\" allowfullscreen></iframe></div>"
            ]
          },
          "metadata": {}
        },
        {
          "output_type": "stream",
          "name": "stderr",
          "text": [
            "/usr/local/lib/python3.10/dist-packages/spacy/pipeline/lemmatizer.py:211: UserWarning: [W108] The rule-based lemmatizer did not find POS annotation for one or more tokens. Check that your pipeline includes components that assign token.pos, typically 'tagger'+'attribute_ruler' or 'morphologizer'.\n",
            "  warnings.warn(Warnings.W108)\n"
          ]
        },
        {
          "output_type": "stream",
          "name": "stdout",
          "text": [
            "Keyboard interruption in main thread... closing server.\n",
            "Killing tunnel 127.0.0.1:7860 <> https://61f0814a82efcceb89.gradio.live\n"
          ]
        },
        {
          "output_type": "execute_result",
          "data": {
            "text/plain": []
          },
          "metadata": {},
          "execution_count": 41
        }
      ],
      "source": [
        "import gradio as gr\n",
        "\n",
        "theme = gr.themes.Soft(\n",
        "    primary_hue=\"sky\",\n",
        "    secondary_hue=\"sky\",\n",
        ")\n",
        "\n",
        "with gr.Blocks(theme=theme) as Interface:\n",
        "  gr.Markdown(\"Upload pdf file for processing\")\n",
        "  with gr.Row():\n",
        "    with gr.Column():\n",
        "      filepath = gr.File(file_count='single', file_types=['.pdf'], type='filepath',scale=2)\n",
        "      with gr.Row():\n",
        "        conf = gr.Number(value=0.65,label=\"Confidence\",step=0.1,minimum=0,maximum=1,scale=2)\n",
        "        chunk = gr.Number(value=1000,label=\"Chunk size\",step=500,minimum=500,maximum=5000,scale=2)\n",
        "        firstpage = gr.Text(label=\"Include 1st pg? (y/n)\",scale=2)\n",
        "        filename=gr.Text(label=\"Enter Filename\",scale=2)\n",
        "      btn = gr.Button(\"Execute\",scale=1)\n",
        "    dataset = gr.Dataframe(label='Generated dataset',scale=1,wrap=True,headers=['text','filename'],row_count=(20,'dynamic'))\n",
        "  Gallery = gr.Gallery(label=\"Yolov8 Detections\",interactive=False,scale=1)\n",
        "\n",
        "\n",
        "  btn.click(main_function, inputs=[filepath,conf,filename,firstpage,chunk], outputs=[dataset,Gallery])\n",
        "\n",
        "Interface.launch(share=True,debug=True)"
      ]
    }
  ]
}